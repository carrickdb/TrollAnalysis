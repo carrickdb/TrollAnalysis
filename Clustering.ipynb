{
 "cells": [
  {
   "cell_type": "code",
   "execution_count": 58,
   "metadata": {},
   "outputs": [],
   "source": [
    "import json, datetime, math\n",
    "from sklearn import svm\n",
    "from sklearn.metrics import f1_score\n",
    "from sklearn.ensemble import GradientBoostingClassifier\n",
    "import datetime\n",
    "import numpy as np\n",
    "from sklearn.preprocessing import MinMaxScaler\n",
    "import matplotlib.pyplot as plt\n",
    "from collections import defaultdict\n",
    "from sklearn.preprocessing import scale\n",
    "import operator\n",
    "import wordcloud"
   ]
  },
  {
   "cell_type": "code",
   "execution_count": 2,
   "metadata": {},
   "outputs": [],
   "source": [
    "with open(\"data/orig_en_train.json\") as f:\n",
    "    data = json.load(f)\n",
    "    # print(\"number of tweets\", len(data))"
   ]
  },
  {
   "cell_type": "code",
   "execution_count": 42,
   "metadata": {},
   "outputs": [],
   "source": [
    "all_hs = defaultdict(int)\n",
    "hs_likes = defaultdict(int)\n",
    "\n",
    "for d in data:\n",
    "    curr_hashtags = d['hashtags']\n",
    "    curr_hashtags = curr_hashtags[1:-1].split(', ')\n",
    "    curr_hashtags = [x for x in curr_hashtags if x != \"\"]\n",
    "    for hs in curr_hashtags:\n",
    "        if hs!=\"\":\n",
    "            all_hs[hs] += 1\n",
    "    if int(d['like_count']) > 0:\n",
    "        for hs in curr_hashtags:\n",
    "            if hs!=\"\":\n",
    "                hs_likes[hs] += 1\n",
    "\n",
    "sorted_hs = sorted(all_hs.items(), key=operator.itemgetter(1))\n",
    "sorted_hsl = sorted(hs_likes.items(), key=operator.itemgetter(1))\n",
    "    \n",
    "quality_hs = []\n",
    "quality_hsl = []\n",
    "for hs in sorted_hs:\n",
    "    if hs[1]>7:\n",
    "        quality_hs.append(hs)\n",
    "for hs in sorted_hsl:\n",
    "    if hs[1]>7:\n",
    "        quality_hsl.append(hs)\n",
    "\n",
    "hs_index = defaultdict(int)\n",
    "ind_hs = defaultdict(str)\n",
    "for ind, hs in enumerate(quality_hs):\n",
    "    hs_index[hs[0]] = ind\n",
    "    ind_hs[ind] = hs[0]\n",
    "    \n",
    "all_user = set()\n",
    "for d in data:\n",
    "    all_user.add(d['userid'])\n",
    "users = list(all_user)\n",
    "user_ind = {}\n",
    "ind_user = {}\n",
    "for ind, u in enumerate(users):\n",
    "    user_ind[u] = ind\n",
    "    ind_user[ind] = u\n",
    "    \n",
    "for d in data:\n",
    "    curr_hashtags = d['hashtags']\n",
    "    curr_hashtags = curr_hashtags[1:-1].split(', ')\n",
    "    curr_hashtags = [x for x in curr_hashtags if x != \"\"]\n",
    "    for hs in curr_hashtags:\n",
    "        user_hs[user_ind[d['userid']]][hs_index[hs]] += 1"
   ]
  },
  {
   "cell_type": "code",
   "execution_count": 69,
   "metadata": {},
   "outputs": [],
   "source": [
    "filtered_user_hs = []\n",
    "for d in user_hs:\n",
    "    if d != [0]*len(quality_hs):\n",
    "        filtered_user_hs.append(d)\n",
    "filtered_user_hs = np.array(filtered_user_hs, dtype=np.float32)"
   ]
  },
  {
   "cell_type": "code",
   "execution_count": 70,
   "metadata": {},
   "outputs": [],
   "source": [
    "user_hs_sums = []\n",
    "for d in filtered_user_hs:\n",
    "    user_hs_sums.append(sum(d))"
   ]
  },
  {
   "cell_type": "code",
   "execution_count": 71,
   "metadata": {
    "scrolled": false
   },
   "outputs": [],
   "source": [
    "for i in range(filtered_user_hs.shape[0]):\n",
    "    filtered_user_hs[i] = np.divide(filtered_user_hs[i], user_hs_sums[i])"
   ]
  },
  {
   "cell_type": "code",
   "execution_count": 73,
   "metadata": {},
   "outputs": [
    {
     "name": "stderr",
     "output_type": "stream",
     "text": [
      "/home/santi/anaconda3/lib/python3.6/site-packages/sklearn/preprocessing/data.py:164: UserWarning: Numerical issues were encountered when centering the data and might not be solved. Dataset may contain too large values. You may need to prescale your features.\n",
      "  warnings.warn(\"Numerical issues were encountered \"\n",
      "/home/santi/anaconda3/lib/python3.6/site-packages/sklearn/preprocessing/data.py:181: UserWarning: Numerical issues were encountered when scaling the data and might not be solved. The standard deviation of the data is probably very close to 0. \n",
      "  warnings.warn(\"Numerical issues were encountered \"\n"
     ]
    }
   ],
   "source": [
    "scaled_user_hs = scale(filtered_user_hs)"
   ]
  },
  {
   "cell_type": "code",
   "execution_count": null,
   "metadata": {},
   "outputs": [],
   "source": []
  }
 ],
 "metadata": {
  "kernelspec": {
   "display_name": "Python 2",
   "language": "python",
   "name": "python2"
  },
  "language_info": {
   "codemirror_mode": {
    "name": "ipython",
    "version": 3
   },
   "file_extension": ".py",
   "mimetype": "text/x-python",
   "name": "python",
   "nbconvert_exporter": "python",
   "pygments_lexer": "ipython3",
   "version": "3.6.5"
  }
 },
 "nbformat": 4,
 "nbformat_minor": 2
}
