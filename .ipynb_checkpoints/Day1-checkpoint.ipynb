{
 "cells": [
  {
   "cell_type": "code",
   "execution_count": 1,
   "metadata": {},
   "outputs": [],
   "source": [
    "import json, datetime, math\n",
    "from sklearn import svm\n",
    "from sklearn.metrics import f1_score\n",
    "from sklearn.ensemble import GradientBoostingClassifier\n",
    "import datetime\n",
    "import numpy as np\n",
    "from sklearn.preprocessing import MinMaxScaler\n",
    "import matplotlib.pyplot as plt\n",
    "from collections import defaultdict\n",
    "import operator"
   ]
  },
  {
   "cell_type": "code",
   "execution_count": 2,
   "metadata": {},
   "outputs": [
    {
     "ename": "FileNotFoundError",
     "evalue": "[Errno 2] No such file or directory: 'data/orig_en_train.json'",
     "output_type": "error",
     "traceback": [
      "\u001b[0;31m---------------------------------------------------------------------------\u001b[0m",
      "\u001b[0;31mFileNotFoundError\u001b[0m                         Traceback (most recent call last)",
      "\u001b[0;32m<ipython-input-2-f2d231215faa>\u001b[0m in \u001b[0;36m<module>\u001b[0;34m()\u001b[0m\n\u001b[0;32m----> 1\u001b[0;31m \u001b[0;32mwith\u001b[0m \u001b[0mopen\u001b[0m\u001b[0;34m(\u001b[0m\u001b[0;34m\"data/orig_en_train.json\"\u001b[0m\u001b[0;34m)\u001b[0m \u001b[0;32mas\u001b[0m \u001b[0mf\u001b[0m\u001b[0;34m:\u001b[0m\u001b[0;34m\u001b[0m\u001b[0m\n\u001b[0m\u001b[1;32m      2\u001b[0m     \u001b[0mdata\u001b[0m \u001b[0;34m=\u001b[0m \u001b[0mjson\u001b[0m\u001b[0;34m.\u001b[0m\u001b[0mload\u001b[0m\u001b[0;34m(\u001b[0m\u001b[0mf\u001b[0m\u001b[0;34m)\u001b[0m\u001b[0;34m\u001b[0m\u001b[0m\n\u001b[1;32m      3\u001b[0m     \u001b[0;31m# print(\"number of tweets\", len(data))\u001b[0m\u001b[0;34m\u001b[0m\u001b[0;34m\u001b[0m\u001b[0m\n",
      "\u001b[0;31mFileNotFoundError\u001b[0m: [Errno 2] No such file or directory: 'data/orig_en_train.json'"
     ]
    }
   ],
   "source": [
    "with open(\"orig_en_train.json\") as f:\n",
    "    data = json.load(f)\n",
    "    # print(\"number of tweets\", len(data))"
   ]
  },
  {
   "cell_type": "code",
   "execution_count": 13,
   "metadata": {},
   "outputs": [],
   "source": [
    "split = len(data)//2"
   ]
  },
  {
   "cell_type": "code",
   "execution_count": 53,
   "metadata": {},
   "outputs": [],
   "source": [
    "def create_features(data_set):\n",
    "    X = []\n",
    "    y = []\n",
    "    unliked = []\n",
    "    liked = []\n",
    "    for d in data_set:\n",
    "        features = []\n",
    "        if 'https://t.co' in d['tweet_text']:\n",
    "            features.append(1)\n",
    "        else:\n",
    "            features.append(0)\n",
    "        features.append(int(d['follower_count']))\n",
    "        if int(d['like_count'])>50:\n",
    "            continue\n",
    "        X.append(features)\n",
    "        if d['like_count'] == '0':\n",
    "            y.append(0)\n",
    "        else:\n",
    "            y.append(1)\n",
    "\n",
    "    return np.array(X), np.array(y)"
   ]
  },
  {
   "cell_type": "code",
   "execution_count": 54,
   "metadata": {
    "scrolled": true
   },
   "outputs": [],
   "source": [
    "X, y = create_features(data)\n",
    "\n",
    "# scaler = MinMaxScaler()  # Default behavior is to scale to [0,1]\n",
    "# X = scaler.fit_transform(X)\n",
    "\n",
    "X_train = X[:split]\n",
    "y_train = y[:split]\n",
    "X_valid = X[split:]\n",
    "y_valid = y[split:]\n",
    "# y_train = y_train.reshape(y_train.shape[0], 1)\n",
    "# y_valid = y_valid.reshape(y_valid.shape[0], 1)"
   ]
  },
  {
   "cell_type": "code",
   "execution_count": 26,
   "metadata": {},
   "outputs": [
    {
     "data": {
      "text/plain": [
       "229"
      ]
     },
     "execution_count": 26,
     "metadata": {},
     "output_type": "execute_result"
    }
   ],
   "source": [
    "(y_train == 1).sum()"
   ]
  },
  {
   "cell_type": "code",
   "execution_count": 7,
   "metadata": {},
   "outputs": [
    {
     "name": "stderr",
     "output_type": "stream",
     "text": [
      "/home/santi/anaconda3/lib/python3.6/site-packages/sklearn/utils/validation.py:475: DataConversionWarning: Data with input dtype int64 was converted to float64 by MinMaxScaler.\n",
      "  warnings.warn(msg, DataConversionWarning)\n"
     ]
    }
   ],
   "source": []
  },
  {
   "cell_type": "code",
   "execution_count": 24,
   "metadata": {},
   "outputs": [
    {
     "data": {
      "text/plain": [
       "array([[0.  , 0.51],\n",
       "       [0.  , 0.2 ],\n",
       "       [0.  , 0.53],\n",
       "       [0.  , 0.01],\n",
       "       [0.  , 0.86],\n",
       "       [0.  , 0.6 ],\n",
       "       [0.  , 0.61],\n",
       "       [0.  , 0.35],\n",
       "       [0.  , 0.21],\n",
       "       [0.  , 0.61],\n",
       "       [0.  , 0.57],\n",
       "       [1.  , 0.2 ],\n",
       "       [0.  , 0.47],\n",
       "       [0.  , 0.84],\n",
       "       [1.  , 0.21]])"
      ]
     },
     "execution_count": 24,
     "metadata": {},
     "output_type": "execute_result"
    }
   ],
   "source": [
    "X_train[:15]"
   ]
  },
  {
   "cell_type": "code",
   "execution_count": 55,
   "metadata": {},
   "outputs": [
    {
     "data": {
      "text/plain": [
       "array([[    0,   145],\n",
       "       [    0,   921],\n",
       "       [    0,   188],\n",
       "       ...,\n",
       "       [    0, 20135],\n",
       "       [    0, 19351],\n",
       "       [    0,   840]])"
      ]
     },
     "execution_count": 55,
     "metadata": {},
     "output_type": "execute_result"
    }
   ],
   "source": [
    "X_train"
   ]
  },
  {
   "cell_type": "code",
   "execution_count": 56,
   "metadata": {},
   "outputs": [
    {
     "data": {
      "text/plain": [
       "790"
      ]
     },
     "execution_count": 56,
     "metadata": {},
     "output_type": "execute_result"
    }
   ],
   "source": [
    "(y_train==0).sum()"
   ]
  },
  {
   "cell_type": "code",
   "execution_count": 58,
   "metadata": {
    "scrolled": true
   },
   "outputs": [
    {
     "name": "stdout",
     "output_type": "stream",
     "text": [
      "2 0.8079748163693599 0.08955223880597014\n",
      "2 0.8195173137460651 0.25862068965517243\n",
      "2 0.8226652675760755 0.28085106382978725\n",
      "2 0.8237145855194123 0.2941176470588235\n",
      "2 0.8195173137460651 0.29508196721311475\n",
      "2 0.7922350472193075 0.3310810810810811\n",
      "2 0.7649527806925498 0.3212121212121212\n",
      "2 0.7618048268625394 0.3264094955489615\n",
      "2 0.7628541448058762 0.3430232558139535\n",
      "2 0.7523609653725079 0.2484076433121019\n",
      "2 0.7355718782791185 0.1870967741935484\n",
      "2 0.5708289611752361 0.3736600306278714\n",
      "2 0.5089192025183631 0.42506142506142514\n",
      "2 0.5047219307450157 0.13553113553113552\n",
      "2 0.49213011542497376 0.3333333333333333\n"
     ]
    }
   ],
   "source": [
    "possible_C = [0.1, 0.3, 0.6, 0.8, 1, 1,2, 1.4, 1.6, 1.8, 2]\n",
    "# possible_C = [1, 10, 100, 1000]\n",
    "lrs = [0.01, 0.03, 0.05, 0.07, 0.1, 0.3, 0.5, 0.7, 0.9, 1.2, 1.6, 1.9, 2.4, 2.8, 3.5]\n",
    "best_acc = 0\n",
    "best_C = None\n",
    "all_preds = []\n",
    "for lr in lrs:\n",
    "#     clf = svm.SVC(C=c, kernel='rbf', class_weight={0:4, 1:1})\n",
    "    clf = GradientBoostingClassifier(learning_rate=lr)\n",
    "    clf.fit(X_train, y_train)\n",
    "    train_acc = clf.score(X_train, y_train)\n",
    "    valid_acc = clf.score(X_valid, y_valid)\n",
    "    \n",
    "    preds = clf.predict(X_valid)\n",
    "    \n",
    "    f1 = f1_score(y_valid, preds)\n",
    "    \n",
    "    if f1>best_acc:\n",
    "        best_acc = f1\n",
    "        best_C = c\n",
    "    \n",
    "    print(c, valid_acc, f1)\n",
    "    all_preds.append(preds)"
   ]
  },
  {
   "cell_type": "code",
   "execution_count": 57,
   "metadata": {},
   "outputs": [
    {
     "name": "stderr",
     "output_type": "stream",
     "text": [
      "/home/santi/anaconda3/lib/python3.6/site-packages/sklearn/metrics/classification.py:1135: UndefinedMetricWarning: F-score is ill-defined and being set to 0.0 due to no predicted samples.\n",
      "  'precision', 'predicted', average, warn_for)\n"
     ]
    },
    {
     "name": "stdout",
     "output_type": "stream",
     "text": [
      "0.1 0.8006295907660022 0.0\n",
      "0.3 0.8006295907660022 0.0\n",
      "0.6 0.8132214060860441 0.14423076923076922\n",
      "0.8 0.8100734522560336 0.15813953488372093\n",
      "1 0.8048268625393494 0.2184873949579832\n",
      "1 0.8048268625393494 0.2184873949579832\n",
      "2 0.7974816369359916 0.2248995983935743\n",
      "1.4 0.8037775445960126 0.22406639004149376\n",
      "1.6 0.7974816369359916 0.2248995983935743\n",
      "1.8 0.7974816369359916 0.2248995983935743\n",
      "2 0.7974816369359916 0.2248995983935743\n"
     ]
    }
   ],
   "source": [
    "possible_C = [0.1, 0.3, 0.6, 0.8, 1, 1,2, 1.4, 1.6, 1.8, 2]\n",
    "# possible_C = [1, 10, 100, 1000]\n",
    "# lrs = [0.01, 0.03, 0.05, 0.07, 0.1, 0.3, 0.5, 0.7, 0.9, 1.2, 1.6, 1.9]\n",
    "best_acc = 0\n",
    "best_C = None\n",
    "all_preds = []\n",
    "for c in possible_C:\n",
    "    clf = svm.SVC(C=c, kernel='rbf', class_weight={0:3, 1:1})\n",
    "#     clf = GradientBoostingClassifier(learning_rate=lr)\n",
    "    clf.fit(X_train, y_train)\n",
    "    train_acc = clf.score(X_train, y_train)\n",
    "    valid_acc = clf.score(X_valid, y_valid)\n",
    "    \n",
    "    preds = clf.predict(X_valid)\n",
    "    \n",
    "    f1 = f1_score(y_valid, preds)\n",
    "    \n",
    "    if f1>best_acc:\n",
    "        best_acc = f1\n",
    "        best_C = c\n",
    "    \n",
    "    print(c, valid_acc, f1)\n",
    "    all_preds.append(preds)"
   ]
  },
  {
   "cell_type": "code",
   "execution_count": 51,
   "metadata": {},
   "outputs": [
    {
     "name": "stdout",
     "output_type": "stream",
     "text": [
      "0.28085106382978725\n"
     ]
    }
   ],
   "source": [
    "print(f1_score(y_valid, all_preds[2]))"
   ]
  },
  {
   "cell_type": "code",
   "execution_count": 50,
   "metadata": {},
   "outputs": [
    {
     "data": {
      "text/plain": [
       "782"
      ]
     },
     "execution_count": 50,
     "metadata": {},
     "output_type": "execute_result"
    }
   ],
   "source": [
    "(y_valid == 0).sum()"
   ]
  },
  {
   "cell_type": "code",
   "execution_count": 60,
   "metadata": {},
   "outputs": [],
   "source": [
    "t_lens = []\n",
    "t_likes = []\n",
    "for t in train:\n",
    "#     if int(t['like_count']) > 50:\n",
    "#         continue\n",
    "    t_lens.append(len(t['tweet_text']))\n",
    "    t_likes.append(int(t['like_count']))"
   ]
  },
  {
   "cell_type": "code",
   "execution_count": 61,
   "metadata": {
    "scrolled": false
   },
   "outputs": [
    {
     "data": {
      "text/plain": [
       "<matplotlib.collections.PathCollection at 0x7f831497ed30>"
      ]
     },
     "execution_count": 61,
     "metadata": {},
     "output_type": "execute_result"
    },
    {
     "data": {
      "image/png": "[encoded data removed]",
      "text/plain": [
       "<Figure size 432x288 with 1 Axes>"
      ]
     },
     "metadata": {},
     "output_type": "display_data"
    }
   ],
   "source": [
    "plt.scatter(t_lens, t_likes)"
   ]
  },
  {
   "cell_type": "code",
   "execution_count": 86,
   "metadata": {
    "scrolled": true
   },
   "outputs": [],
   "source": [
    "unique_hash = defaultdict(int)\n",
    "for d in data:\n",
    "    if int(d['like_count']) > 10 : #and (d['hashtags']!=\"\" or d['hashtags']!=\"[]\"):\n",
    "        curr_hashtags = d['hashtags']\n",
    "        curr_hashtags = curr_hashtags[1:-1].split(', ')\n",
    "        for hs in curr_hashtags:\n",
    "            unique_hash[hs] += 1\n",
    "#         print(d['like_count'], curr_hashtags,  d['follower_count'], d['tweet_text'])"
   ]
  },
  {
   "cell_type": "code",
   "execution_count": 91,
   "metadata": {
    "scrolled": true
   },
   "outputs": [
    {
     "name": "stdout",
     "output_type": "stream",
     "text": [
      "[('', 2935), ('BlackLivesMatter', 106), ('ISIS', 51), ('tcot', 39), ('Trump', 35), ('MAGA', 34), ('BLM', 32), ('Trump2016', 29), ('Merkel', 28), ('2A', 28), ('SAA', 27), ('BlackHistoryMonth', 26), ('FeelTheBern', 24), ('BlackTwitter', 22), ('BTP', 21), ('blacklivesmatter', 21), ('NeverHillary', 20), ('Aleppo', 20), ('MakeAmericaGreatAgain', 19), ('pjnet', 18), ('PJNET', 18), ('racism', 18), ('BlackHistory', 17), ('Syria', 17), ('IS', 17), ('PoliceBrutality', 17), ('BlackMatters', 17), ('Obama', 17), ('blm', 17), ('WakeUpAmerica', 16), ('BlackToLive', 16), ('Islam', 15), ('DemsInPhilly', 15), ('LiberalLogic', 15), ('FeminismIsAwful', 15), ('BanIslam', 14), ('Benghazi', 14), ('US', 14), ('Flüchtlinge', 14), ('CrookedHillary', 13), ('Deutschland', 12), ('Erdogan', 12), ('mondaymotivation', 12), ('NeverForget', 12), ('HillaryClinton', 11), ('PhilandoCastile', 11), ('blacktolive', 11), ('BlueLivesMatter', 11), ('BlackGirlsRock', 11), ('FridayFeeling', 11)]\n"
     ]
    }
   ],
   "source": [
    "sorted_x = sorted(unique_hash.items(), key=operator.itemgetter(1))\n",
    "sorted_x.reverse()\n",
    "print(sorted_x[:50])"
   ]
  },
  {
   "cell_type": "code",
   "execution_count": 74,
   "metadata": {},
   "outputs": [
    {
     "data": {
      "text/plain": [
       "{'tweetid': '502371804913348608',\n",
       " 'userid': 'b0b90ae15ea8fcad5fd0fe5666ba65680a9b76103c4cee437d44456e12d00066',\n",
       " 'user_display_name': 'b0b90ae15ea8fcad5fd0fe5666ba65680a9b76103c4cee437d44456e12d00066',\n",
       " 'user_screen_name': 'b0b90ae15ea8fcad5fd0fe5666ba65680a9b76103c4cee437d44456e12d00066',\n",
       " 'user_reported_location': 'cleveland / ohio',\n",
       " 'user_profile_description': 'wanna live 4ever',\n",
       " 'user_profile_url': '',\n",
       " 'follower_count': '145',\n",
       " 'following_count': '318',\n",
       " 'account_creation_date': '2014-03-15',\n",
       " 'account_language': 'en',\n",
       " 'tweet_language': 'en',\n",
       " 'tweet_text': 'Boy have no fear (have no fear)',\n",
       " 'tweet_time': '2014-08-21 08:29',\n",
       " 'tweet_client_name': 'vavilonX',\n",
       " 'in_reply_to_tweetid': '',\n",
       " 'in_reply_to_userid': '',\n",
       " 'quoted_tweet_tweetid': '',\n",
       " 'is_retweet': 'false',\n",
       " 'retweet_userid': '',\n",
       " 'retweet_tweetid': '',\n",
       " 'latitude': '',\n",
       " 'longitude': '',\n",
       " 'quote_count': '0',\n",
       " 'reply_count': '0',\n",
       " 'like_count': '0',\n",
       " 'retweet_count': '0',\n",
       " 'hashtags': '',\n",
       " 'urls': '',\n",
       " 'user_mentions': '',\n",
       " 'poll_choices': ''}"
      ]
     },
     "execution_count": 74,
     "metadata": {},
     "output_type": "execute_result"
    }
   ],
   "source": [
    "data[0]"
   ]
  },
  {
   "cell_type": "code",
   "execution_count": null,
   "metadata": {},
   "outputs": [],
   "source": []
  }
 ],
 "metadata": {
  "kernelspec": {
   "display_name": "Python 3",
   "language": "python",
   "name": "python3"
  },
  "language_info": {
   "codemirror_mode": {
    "name": "ipython",
    "version": 3
   },
   "file_extension": ".py",
   "mimetype": "text/x-python",
   "name": "python",
   "nbconvert_exporter": "python",
   "pygments_lexer": "ipython3",
   "version": "3.6.0"
  }
 },
 "nbformat": 4,
 "nbformat_minor": 2
}
