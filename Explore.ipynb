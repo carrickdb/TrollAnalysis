{
 "cells": [
  {
   "cell_type": "code",
   "execution_count": 1,
   "metadata": {},
   "outputs": [],
   "source": [
    "import json, datetime, math\n",
    "from sklearn import svm\n",
    "import datetime\n",
    "import numpy as np\n",
    "import matplotlib.pyplot as plt"
   ]
  },
  {
   "cell_type": "code",
   "execution_count": 2,
   "metadata": {},
   "outputs": [],
   "source": [
    "with open(\"data/train_mini.json\") as f:\n",
    "    data = json.load(f)\n",
    "    # print(\"number of tweets\", len(data))"
   ]
  },
  {
   "cell_type": "code",
   "execution_count": 3,
   "metadata": {},
   "outputs": [],
   "source": [
    "split = len(data)//2\n",
    "train = data[:split]\n",
    "valid = data[split:]"
   ]
  },
  {
   "cell_type": "code",
   "execution_count": 4,
   "metadata": {},
   "outputs": [
    {
     "data": {
      "text/plain": [
       "{'tweetid': '502371804913348608',\n",
       " 'userid': 'b0b90ae15ea8fcad5fd0fe5666ba65680a9b76103c4cee437d44456e12d00066',\n",
       " 'user_display_name': 'b0b90ae15ea8fcad5fd0fe5666ba65680a9b76103c4cee437d44456e12d00066',\n",
       " 'user_screen_name': 'b0b90ae15ea8fcad5fd0fe5666ba65680a9b76103c4cee437d44456e12d00066',\n",
       " 'user_reported_location': 'cleveland / ohio',\n",
       " 'user_profile_description': 'wanna live 4ever',\n",
       " 'user_profile_url': '',\n",
       " 'follower_count': '145',\n",
       " 'following_count': '318',\n",
       " 'account_creation_date': '2014-03-15',\n",
       " 'account_language': 'en',\n",
       " 'tweet_language': 'en',\n",
       " 'tweet_text': 'Boy have no fear (have no fear)',\n",
       " 'tweet_time': '2014-08-21 08:29',\n",
       " 'tweet_client_name': 'vavilonX',\n",
       " 'in_reply_to_tweetid': '',\n",
       " 'in_reply_to_userid': '',\n",
       " 'quoted_tweet_tweetid': '',\n",
       " 'is_retweet': 'false',\n",
       " 'retweet_userid': '',\n",
       " 'retweet_tweetid': '',\n",
       " 'latitude': '',\n",
       " 'longitude': '',\n",
       " 'quote_count': '0',\n",
       " 'reply_count': '0',\n",
       " 'like_count': '0',\n",
       " 'retweet_count': '0',\n",
       " 'hashtags': '',\n",
       " 'urls': '',\n",
       " 'user_mentions': '',\n",
       " 'poll_choices': ''}"
      ]
     },
     "execution_count": 4,
     "metadata": {},
     "output_type": "execute_result"
    }
   ],
   "source": [
    "train[0]"
   ]
  },
  {
   "cell_type": "code",
   "execution_count": null,
   "metadata": {},
   "outputs": [],
   "source": []
  }
 ],
 "metadata": {
  "kernelspec": {
   "display_name": "Python 3",
   "language": "python",
   "name": "python3"
  },
  "language_info": {
   "codemirror_mode": {
    "name": "ipython",
    "version": 3
   },
   "file_extension": ".py",
   "mimetype": "text/x-python",
   "name": "python",
   "nbconvert_exporter": "python",
   "pygments_lexer": "ipython3",
   "version": "3.6.5"
  }
 },
 "nbformat": 4,
 "nbformat_minor": 2
}
